{
 "cells": [
  {
   "cell_type": "code",
   "execution_count": 1,
   "id": "12a1b19e-3b10-4932-ae15-4611257cbdc4",
   "metadata": {},
   "outputs": [],
   "source": [
    "import pandas as pd\n",
    "from glob import glob\n",
    "from pyspark.sql import SparkSession"
   ]
  },
  {
   "cell_type": "code",
   "execution_count": 2,
   "id": "c0570137-7257-4837-a25d-74b4cf80ccce",
   "metadata": {},
   "outputs": [
    {
     "name": "stdout",
     "output_type": "stream",
     "text": [
      ":: loading settings :: url = jar:file:/Users/profshabangu/Downloads/Scraping%20Shoping%20websites/venv/lib/python3.10/site-packages/pyspark/jars/ivy-2.5.1.jar!/org/apache/ivy/core/settings/ivysettings.xml\n"
     ]
    },
    {
     "name": "stderr",
     "output_type": "stream",
     "text": [
      "Ivy Default Cache set to: /Users/profshabangu/.ivy2/cache\n",
      "The jars for the packages stored in: /Users/profshabangu/.ivy2/jars\n",
      "com.crealytics#spark-excel_2.12 added as a dependency\n",
      "com.microsoft.sqlserver#mssql-jdbc added as a dependency\n",
      "com.microsoft.azure#spark-mssql-connector_2.12 added as a dependency\n",
      ":: resolving dependencies :: org.apache.spark#spark-submit-parent-106d25bd-a2a6-418d-b321-a4edc0bc00b5;1.0\n",
      "\tconfs: [default]\n",
      "\tfound com.crealytics#spark-excel_2.12;0.13.7 in central\n",
      "\tfound org.apache.poi#poi;4.1.2 in central\n",
      "\tfound commons-codec#commons-codec;1.13 in central\n",
      "\tfound org.apache.commons#commons-collections4;4.4 in central\n",
      "\tfound org.apache.commons#commons-math3;3.6.1 in central\n",
      "\tfound com.zaxxer#SparseBitSet;1.2 in central\n",
      "\tfound org.apache.poi#poi-ooxml;4.1.2 in central\n",
      "\tfound org.apache.poi#poi-ooxml-schemas;4.1.2 in central\n",
      "\tfound org.apache.xmlbeans#xmlbeans;3.1.0 in central\n",
      "\tfound com.github.virtuald#curvesapi;1.06 in central\n",
      "\tfound com.norbitltd#spoiwo_2.12;1.8.0 in central\n",
      "\tfound org.scala-lang.modules#scala-xml_2.12;1.3.0 in central\n",
      "\tfound com.github.pjfanning#excel-streaming-reader;2.3.6 in central\n",
      "\tfound com.github.pjfanning#poi-shared-strings;1.0.4 in central\n",
      "\tfound com.h2database#h2;1.4.200 in central\n",
      "\tfound org.apache.commons#commons-text;1.8 in central\n",
      "\tfound org.apache.commons#commons-lang3;3.9 in central\n",
      "\tfound xml-apis#xml-apis;1.4.01 in central\n",
      "\tfound org.slf4j#slf4j-api;1.7.30 in central\n",
      "\tfound org.apache.commons#commons-compress;1.20 in central\n",
      "\tfound com.microsoft.sqlserver#mssql-jdbc;9.2.1.jre8 in central\n",
      "\tfound com.microsoft.azure#spark-mssql-connector_2.12;1.1.0 in central\n",
      ":: resolution report :: resolve 1347ms :: artifacts dl 63ms\n",
      "\t:: modules in use:\n",
      "\tcom.crealytics#spark-excel_2.12;0.13.7 from central in [default]\n",
      "\tcom.github.pjfanning#excel-streaming-reader;2.3.6 from central in [default]\n",
      "\tcom.github.pjfanning#poi-shared-strings;1.0.4 from central in [default]\n",
      "\tcom.github.virtuald#curvesapi;1.06 from central in [default]\n",
      "\tcom.h2database#h2;1.4.200 from central in [default]\n",
      "\tcom.microsoft.azure#spark-mssql-connector_2.12;1.1.0 from central in [default]\n",
      "\tcom.microsoft.sqlserver#mssql-jdbc;9.2.1.jre8 from central in [default]\n",
      "\tcom.norbitltd#spoiwo_2.12;1.8.0 from central in [default]\n",
      "\tcom.zaxxer#SparseBitSet;1.2 from central in [default]\n",
      "\tcommons-codec#commons-codec;1.13 from central in [default]\n",
      "\torg.apache.commons#commons-collections4;4.4 from central in [default]\n",
      "\torg.apache.commons#commons-compress;1.20 from central in [default]\n",
      "\torg.apache.commons#commons-lang3;3.9 from central in [default]\n",
      "\torg.apache.commons#commons-math3;3.6.1 from central in [default]\n",
      "\torg.apache.commons#commons-text;1.8 from central in [default]\n",
      "\torg.apache.poi#poi;4.1.2 from central in [default]\n",
      "\torg.apache.poi#poi-ooxml;4.1.2 from central in [default]\n",
      "\torg.apache.poi#poi-ooxml-schemas;4.1.2 from central in [default]\n",
      "\torg.apache.xmlbeans#xmlbeans;3.1.0 from central in [default]\n",
      "\torg.scala-lang.modules#scala-xml_2.12;1.3.0 from central in [default]\n",
      "\torg.slf4j#slf4j-api;1.7.30 from central in [default]\n",
      "\txml-apis#xml-apis;1.4.01 from central in [default]\n",
      "\t:: evicted modules:\n",
      "\torg.apache.commons#commons-compress;1.19 by [org.apache.commons#commons-compress;1.20] in [default]\n",
      "\t---------------------------------------------------------------------\n",
      "\t|                  |            modules            ||   artifacts   |\n",
      "\t|       conf       | number| search|dwnlded|evicted|| number|dwnlded|\n",
      "\t---------------------------------------------------------------------\n",
      "\t|      default     |   23  |   0   |   0   |   1   ||   22  |   0   |\n",
      "\t---------------------------------------------------------------------\n",
      ":: retrieving :: org.apache.spark#spark-submit-parent-106d25bd-a2a6-418d-b321-a4edc0bc00b5\n",
      "\tconfs: [default]\n",
      "\t0 artifacts copied, 22 already retrieved (0kB/36ms)\n",
      "24/06/19 22:54:56 WARN NativeCodeLoader: Unable to load native-hadoop library for your platform... using builtin-java classes where applicable\n",
      "Setting default log level to \"WARN\".\n",
      "To adjust logging level use sc.setLogLevel(newLevel). For SparkR, use setLogLevel(newLevel).\n"
     ]
    }
   ],
   "source": [
    "spark = SparkSession.builder \\\n",
    "    .appName(\"ReadandWriteApp\") \\\n",
    "    .config(\"spark.executor.memory\", \"6g\") \\\n",
    "    .config(\"spark.driver.memory\", \"6g\") \\\n",
    "    .config(\"spark.executor.cores\", \"4\") \\\n",
    "    .config(\"spark.executor.extraJavaOptions\", \"-XX:+UseG1GC\") \\\n",
    "    .config(\"spark.driver.extraJavaOptions\", \"-XX:+UseG1GC\") \\\n",
    "    .config(\"spark.jars.packages\",\n",
    "            \"com.crealytics:spark-excel_2.12:0.13.7,\" +\n",
    "            \"com.microsoft.sqlserver:mssql-jdbc:9.2.1.jre8,\" +\n",
    "            \"com.microsoft.azure:spark-mssql-connector_2.12:1.1.0\") \\\n",
    "    .getOrCreate()"
   ]
  },
  {
   "cell_type": "markdown",
   "id": "209d4922-4a3f-417c-bff4-368ae4ba7853",
   "metadata": {},
   "source": [
    "#### **Import reusable function with creditials**\n"
   ]
  },
  {
   "cell_type": "code",
   "execution_count": 27,
   "id": "08f5d51b-2c8e-43a1-9149-5493659d88dd",
   "metadata": {},
   "outputs": [],
   "source": [
    "%run reuse_functions.ipynb"
   ]
  },
  {
   "cell_type": "code",
   "execution_count": 4,
   "id": "d0e8fbf9-d71c-41bd-9625-f080bab8ed71",
   "metadata": {},
   "outputs": [
    {
     "name": "stdout",
     "output_type": "stream",
     "text": [
      "SQL_Data/Spar/Copy of Insights Report_Ice Tea_Feb'24 (003).xlsx\n",
      "SQL_Data/Spar/Copy of Insights Report_Ice Tea_Mar'24.xlsx\n",
      "SQL_Data/Spar/Copy of Insights Report_Ice Tea_Apr'24.xlsx\n"
     ]
    }
   ],
   "source": [
    "spar_dir = \"../retailer_data/Spar\"\n",
    "file_paths = glob(f\"{spar_dir}/*.xlsx\")\n",
    "\n",
    "for file_path in file_paths:\n",
    "    print(file_path)"
   ]
  },
  {
   "cell_type": "markdown",
   "id": "3233fa10-9607-42e5-a54a-049d703fcc85",
   "metadata": {},
   "source": [
    "#### Read Spar Excel data:"
   ]
  },
  {
   "cell_type": "code",
   "execution_count": 5,
   "id": "5644dbbf-d6b2-4dac-8dee-a2c6c66d9469",
   "metadata": {},
   "outputs": [
    {
     "name": "stderr",
     "output_type": "stream",
     "text": [
      "                                                                                \r"
     ]
    }
   ],
   "source": [
    "#Read Spar Data:\n",
    "spar_all_df = read_all_excel_files(spark,spar_dir, sheet_index=0)\n",
    "spar_all_df = rename_columns(spar_all_df)"
   ]
  },
  {
   "cell_type": "code",
   "execution_count": 6,
   "id": "2d6ccd4b-f20c-4720-a630-348b3a42ddff",
   "metadata": {},
   "outputs": [
    {
     "name": "stderr",
     "output_type": "stream",
     "text": [
      "[Stage 3:===================>                                      (8 + 8) / 24]\r"
     ]
    },
    {
     "name": "stdout",
     "output_type": "stream",
     "text": [
      "66620\n"
     ]
    },
    {
     "name": "stderr",
     "output_type": "stream",
     "text": [
      "                                                                                \r"
     ]
    }
   ],
   "source": [
    "print(spar_all_df.count())"
   ]
  },
  {
   "cell_type": "code",
   "execution_count": 6,
   "id": "2260cb83-64ca-4e21-bfd5-23df6eec8667",
   "metadata": {},
   "outputs": [],
   "source": [
    "#spark.stop() #good practice"
   ]
  },
  {
   "cell_type": "markdown",
   "id": "44741aa2-d41b-4e08-9434-9685984912cb",
   "metadata": {},
   "source": [
    "#### **Write SPAR data to SQL:**"
   ]
  },
  {
   "cell_type": "code",
   "execution_count": 28,
   "id": "fd5d3446-d9ad-4294-80ad-db3c292ef64c",
   "metadata": {},
   "outputs": [],
   "source": [
    "%run config.ipynb"
   ]
  },
  {
   "cell_type": "code",
   "execution_count": 9,
   "id": "e99d20c0-f8b9-49a8-a410-13459d5b65fc",
   "metadata": {},
   "outputs": [
    {
     "name": "stderr",
     "output_type": "stream",
     "text": [
      "                                                                                \r"
     ]
    },
    {
     "name": "stdout",
     "output_type": "stream",
     "text": [
      "Successfully loaded to: staging.retailer_spar\n"
     ]
    }
   ],
   "source": [
    "#Writing to sql\n",
    "database_name = \"consulting_db\"\n",
    "table_name = \"staging.retailer_spar\"\n",
    "\n",
    "write_to_sql(spark,spar_all_df,url, table_name, username,password)\n"
   ]
  },
  {
   "cell_type": "markdown",
   "id": "5c435e8d-420e-49bc-899f-6e22b5cf3edd",
   "metadata": {},
   "source": [
    "#### Read PNP excel data:"
   ]
  },
  {
   "cell_type": "code",
   "execution_count": 12,
   "id": "bf968c13-ecc1-4fe9-9b8d-a75f4aa9258e",
   "metadata": {},
   "outputs": [
    {
     "name": "stdout",
     "output_type": "stream",
     "text": [
      "SQL_Data/PNP/KPITrends_01_03_2024_31_03_2024_to_01_03_2024_31_03_2024_ZA (4).xlsx\n",
      "SQL_Data/PNP/KPITrends_01_04_2024_30_04_2024_to_01_04_2024_30_04_2024_ZA (4).xlsx\n",
      "SQL_Data/PNP/KPITrends_01_02_2024_29_02_2024_to_01_02_2024_29_02_2024_ZA (4).xlsx\n"
     ]
    }
   ],
   "source": [
    "pnp_dir = \"../retailer_data/PNP\"\n",
    "file_paths = glob(f\"{pnp_dir}/*.xlsx\")\n",
    "\n",
    "for file_path in file_paths:\n",
    "    print(file_path)"
   ]
  },
  {
   "cell_type": "code",
   "execution_count": 13,
   "id": "63ab2b21-175e-4fe8-bc42-15437c7b767c",
   "metadata": {},
   "outputs": [],
   "source": [
    "#Read PNP Data:\n",
    "pnp_all_df = read_all_excel_files(spark,pnp_dir, sheet_index=1)\n",
    "pnp_all_df = rename_columns(pnp_all_df)"
   ]
  },
  {
   "cell_type": "code",
   "execution_count": 14,
   "id": "0629f1f8-e9a1-49ea-9d2e-9b2438add252",
   "metadata": {},
   "outputs": [
    {
     "name": "stdout",
     "output_type": "stream",
     "text": [
      "30737\n"
     ]
    }
   ],
   "source": [
    "print(pnp_all_df.count())"
   ]
  },
  {
   "cell_type": "markdown",
   "id": "1524108c-f589-4bc8-a754-9fdea8cd4f2b",
   "metadata": {},
   "source": [
    "#### **Write PNP data to SQL:**"
   ]
  },
  {
   "cell_type": "code",
   "execution_count": 16,
   "id": "e352ca56-1dd5-4ce8-a5b9-7027d02507c1",
   "metadata": {},
   "outputs": [
    {
     "name": "stderr",
     "output_type": "stream",
     "text": [
      "                                                                                \r"
     ]
    },
    {
     "name": "stdout",
     "output_type": "stream",
     "text": [
      "Successfully loaded to: staging.retailer_pnp\n"
     ]
    }
   ],
   "source": [
    "#Writing to sql\n",
    "database_name = \"consulting_db\"\n",
    "table_name = \"staging.retailer_pnp\"\n",
    "\n",
    "write_to_sql(spark,pnp_all_df,url, table_name, username,password)"
   ]
  },
  {
   "cell_type": "code",
   "execution_count": 18,
   "id": "480418f0-ecc7-466d-9efd-78e10671a700",
   "metadata": {},
   "outputs": [
    {
     "name": "stdout",
     "output_type": "stream",
     "text": [
      "SQL_Data/checkers/Mar/BOS_ExtractStoreLevelUnLtdByWeek_CHECKERS MINI_20240303.csv\n",
      "SQL_Data/checkers/Mar/BOS_ExtractStoreLevelUnLtdByWeek_CHECKERS MINI_20240317.csv\n",
      "SQL_Data/checkers/Mar/BOS_ExtractStoreLevelUnLtdByWeek_CHECKERS HYPER_20240317.csv\n",
      "SQL_Data/checkers/Mar/BOS_ExtractStoreLevelUnLtdByWeek_CHECKERS HYPER_20240303.csv\n",
      "SQL_Data/checkers/Mar/BOS_ExtractStoreLevelUnLtdByWeek_CHECKERS HYPER_20240310.csv\n",
      "SQL_Data/checkers/Mar/BOS_ExtractStoreLevelUnLtdByWeek_CHECKERS MINI_20240310.csv\n",
      "SQL_Data/checkers/Mar/BOS_ExtractStoreLevelUnLtdByWeek_CHECKERS_20240331.csv\n",
      "SQL_Data/checkers/Mar/BOS_ExtractStoreLevelUnLtdByWeek_CHECKERS_20240324.csv\n",
      "SQL_Data/checkers/Mar/BOS_ExtractStoreLevelUnLtdByWeek_CHECKERS_20240303.csv\n",
      "SQL_Data/checkers/Mar/BOS_ExtractStoreLevelUnLtdByWeek_CHECKERS_20240317.csv\n",
      "SQL_Data/checkers/Mar/BOS_ExtractStoreLevelUnLtdByWeek_CHECKERS_20240310.csv\n",
      "SQL_Data/checkers/Mar/BOS_ExtractStoreLevelUnLtdByWeek_CHECKERS HYPER_20240331.csv\n",
      "SQL_Data/checkers/Mar/BOS_ExtractStoreLevelUnLtdByWeek_CHECKERS MINI_20240331.csv\n",
      "SQL_Data/checkers/Mar/BOS_ExtractStoreLevelUnLtdByWeek_CHECKERS MINI_20240324.csv\n",
      "SQL_Data/checkers/Mar/BOS_ExtractStoreLevelUnLtdByWeek_CHECKERS HYPER_20240324.csv\n"
     ]
    }
   ],
   "source": [
    "checkers_dir = \"../retailer_data/checkers\"\n",
    "file_paths = glob(f\"{checkers_dir}/*.csv\")\n",
    "\n",
    "for file_path in file_paths:\n",
    "    print(file_path)"
   ]
  },
  {
   "cell_type": "code",
   "execution_count": 22,
   "id": "1ea1815a-e2c1-46bc-85a3-fbd9709fee54",
   "metadata": {},
   "outputs": [
    {
     "name": "stderr",
     "output_type": "stream",
     "text": [
      "                                                                                \r"
     ]
    }
   ],
   "source": [
    "checkers_all_df = read_csv_file(spark, checkers_dir)\n",
    "checkers_all_df = rename_columns(checkers_all_df)"
   ]
  },
  {
   "cell_type": "code",
   "execution_count": 23,
   "id": "7c95d78b-0e84-4c30-843e-720418e48a91",
   "metadata": {},
   "outputs": [
    {
     "data": {
      "text/plain": [
       "609293"
      ]
     },
     "execution_count": 23,
     "metadata": {},
     "output_type": "execute_result"
    }
   ],
   "source": [
    "checkers_all_df.count()"
   ]
  },
  {
   "cell_type": "code",
   "execution_count": 16,
   "id": "8686f44d-d42c-4fbf-8a2e-d3ebfbde3b20",
   "metadata": {},
   "outputs": [
    {
     "name": "stderr",
     "output_type": "stream",
     "text": [
      "                                                                                \r"
     ]
    }
   ],
   "source": [
    "checkers_all_df2 = read_csv_large_file(spark, \"../retailer_data/checkers\")\n",
    "checkers_all_df2 = rename_columns(checkers_all_df2)"
   ]
  },
  {
   "cell_type": "code",
   "execution_count": 24,
   "id": "cf6e38ab-f39d-44c8-9cfa-de302e8d762a",
   "metadata": {},
   "outputs": [
    {
     "name": "stdout",
     "output_type": "stream",
     "text": [
      "1579943\n"
     ]
    }
   ],
   "source": [
    "print(checkers_all_df2.count())"
   ]
  },
  {
   "cell_type": "markdown",
   "id": "a4e2b9d3-86a7-496e-a7d1-dde99acc3bb0",
   "metadata": {},
   "source": [
    "#### **Write SPAR data to SQL:**"
   ]
  },
  {
   "cell_type": "code",
   "execution_count": null,
   "id": "4c1d7513-5e1b-46c3-9f9e-1f8207f6d80a",
   "metadata": {},
   "outputs": [],
   "source": [
    "#Writing to sql\n",
    "database_name = \"consulting_db\"\n",
    "table_name = \"staging.retailer_checkers\"\n",
    "\n",
    "write_to_sql(spark,checkers_all_df2,url, table_name, username,password)"
   ]
  },
  {
   "cell_type": "code",
   "execution_count": null,
   "id": "c3d6784e-6dde-4571-8961-86dfd1bd30a0",
   "metadata": {},
   "outputs": [],
   "source": []
  }
 ],
 "metadata": {
  "kernelspec": {
   "display_name": "Python 3 (ipykernel)",
   "language": "python",
   "name": "python3"
  },
  "language_info": {
   "codemirror_mode": {
    "name": "ipython",
    "version": 3
   },
   "file_extension": ".py",
   "mimetype": "text/x-python",
   "name": "python",
   "nbconvert_exporter": "python",
   "pygments_lexer": "ipython3",
   "version": "3.10.3"
  }
 },
 "nbformat": 4,
 "nbformat_minor": 5
}
