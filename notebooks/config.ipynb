{
 "cells": [
  {
   "cell_type": "code",
   "execution_count": null,
   "id": "3ebe1648-e063-4fa9-996b-d4a2407cdc9f",
   "metadata": {},
   "outputs": [],
   "source": [
    "server_name = \"jdbc:sqlserver://retailers.database.windows.net\"\n",
    "database_name = \"consulting_db\"\n",
    "url = server_name + \";\" + \"databaseName=\" + database_name + \";\"\n",
    "table_name = \"\"\n",
    "username = \"\"\n",
    "password = \"\""
   ]
  },
  {
   "cell_type": "code",
   "execution_count": null,
   "id": "e1480daf-c0b1-419a-b782-2d4a4f0ab42b",
   "metadata": {},
   "outputs": [],
   "source": [
    "jdbc_user = \"\" #profmlungu\n",
    "jdbc_password = \"\" #Florence_Wifey\n",
    "\n",
    "connection_properties = {\n",
    "    \"user\": jdbc_user,\n",
    "    \"password\": jdbc_password,\n",
    "    \"driver\": \"com.microsoft.sqlserver.jdbc.SQLServerDriver\"\n",
    "}\n",
    "\n"
   ]
  }
 ],
 "metadata": {
  "kernelspec": {
   "display_name": "Python 3 (ipykernel)",
   "language": "python",
   "name": "python3"
  },
  "language_info": {
   "codemirror_mode": {
    "name": "ipython",
    "version": 3
   },
   "file_extension": ".py",
   "mimetype": "text/x-python",
   "name": "python",
   "nbconvert_exporter": "python",
   "pygments_lexer": "ipython3",
   "version": "3.10.3"
  }
 },
 "nbformat": 4,
 "nbformat_minor": 5
}
